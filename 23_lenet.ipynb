{
  "nbformat": 4,
  "nbformat_minor": 0,
  "metadata": {
    "colab": {
      "provenance": [],
      "gpuType": "T4",
      "authorship_tag": "ABX9TyPBG0SgBoee0eXYR1vSByFc",
      "include_colab_link": true
    },
    "kernelspec": {
      "name": "python3",
      "display_name": "Python 3"
    },
    "language_info": {
      "name": "python"
    },
    "accelerator": "GPU"
  },
  "cells": [
    {
      "cell_type": "markdown",
      "metadata": {
        "id": "view-in-github",
        "colab_type": "text"
      },
      "source": [
        "<a href=\"https://colab.research.google.com/github/chris-magic/d2l/blob/main/23_lenet.ipynb\" target=\"_parent\"><img src=\"https://colab.research.google.com/assets/colab-badge.svg\" alt=\"Open In Colab\"/></a>"
      ]
    },
    {
      "cell_type": "markdown",
      "source": [
        "LetNet 由两个部分组成：卷积编码器和全连接层密集块\n"
      ],
      "metadata": {
        "id": "ZXClpPVXtkxo"
      }
    },
    {
      "cell_type": "code",
      "execution_count": null,
      "metadata": {
        "id": "vqEcenGys3hL"
      },
      "outputs": [],
      "source": [
        "# 安装 d2l 库\n",
        "!pip install d2l\n"
      ]
    },
    {
      "cell_type": "code",
      "source": [
        "# 导入库\n",
        "import torch\n",
        "from torch import nn\n",
        "from d2l import torch as d2l\n",
        "\n",
        "class Reshape(torch.nn.Module):\n",
        "    def forward(self, x):\n",
        "        return x.view(-1, 1, 28, 28)\n",
        "\n",
        "net = torch.nn.Sequential(\n",
        "    Reshape(), nn.Conv2d(1, 6, kernel_size=5, padding=2), nn.Sigmoid(),\n",
        "    nn.AvgPool2d(kernel_size=2, stride=2),\n",
        "    nn.Conv2d(6, 16, kernel_size=5), nn.Sigmoid(),\n",
        "    nn.AvgPool2d(kernel_size=2, stride=2), nn.Flatten(),\n",
        "    nn.Linear(16 * 5 * 5, 120), nn.Sigmoid(),\n",
        "    nn.Linear(120, 84), nn.Sigmoid(),\n",
        "    nn.Linear(84, 10)\n",
        ")\n"
      ],
      "metadata": {
        "id": "BzXth9eFuXtL"
      },
      "execution_count": 6,
      "outputs": []
    },
    {
      "cell_type": "markdown",
      "source": [
        "## 解释\n",
        "|||\n",
        "| :-----| :---- |\n",
        "| Reshape: | 将输入重塑为 (batch_size, channels, height, width) 的形式。 |\n",
        "|Conv2d:|二维卷积层，通常会改变输出通道数、高度和宽度。|\n",
        "|Sigmoid:|激活函数，不改变形状。|\n",
        "|AvgPool2d:|二维平均池化层，通常会减小高度和宽度。|\n",
        "|Flatten:|将多维张量展平成一维向量。|\n",
        "|Linear:|全连接层，改变最后一个维度的大小。|\n",
        "\n",
        "## 解释每层的输出形状\n",
        "|||\n",
        "| :-----| :---- |\n",
        "| Reshape: | 输入重塑为 [1, 1, 28, 28]。 |\n",
        "| Conv2d(1, 6, kernel_size=5, padding=2): | 输出形状为 [1, 6, 28, 28]，由于填充使得输出大小不变，输出通道变为6。 |\n",
        "| Sigmoid: | 输出形状不变，仍为 [1, 6, 28, 28]。 |\n",
        "| AvgPool2d(kernel_size=2, stride=2):  | 输出形状为 [1, 6, 14, 14]，池化层将每个2x2的区域缩小为1x1，输出高宽各减半。 |\n",
        "| Conv2d(6, 16, kernel_size=5): | 输出形状为 [1, 16, 10, 10]，没有填充，输出通道变为16，高宽各减少4。 |\n",
        "| Sigmoid: | 输出形状不变，仍为 [1, 16, 10, 10]。 |\n",
        "|AvgPool2d(kernel_size=2, stride=2):|输出形状为 [1, 16, 5, 5]，池化层将每个2x2的区域缩小为1x1，输出高宽各减半。|\n",
        "|Flatten:|输出形状为 [1, 400]，将多维张量展平成一维向量。|\n",
        "|Linear(16 * 5 * 5, 120):|输出形状为 [1, 120]，全连接层将400维输入转为120维。|\n",
        "|Sigmoid:|输出形状不变，仍为 [1, 120]。|\n",
        "|Linear(120, 84):|输出形状为 [1, 84]，全连接层将120维输入转为84维。|\n",
        "|Sigmoid:|输出形状不变，仍为 [1, 84]。|\n",
        "|Linear(84, 10): |输出形状为 [1, 10]，全连接层将84维输入转为10维，表示10个类别的输出。|\n",
        "|||\n",
        "\n",
        "\n",
        "\n",
        "这样，你可以看到每一层如何改变输入张量的形状，有助于理解网络结构和调试模型。"
      ],
      "metadata": {
        "id": "3o1QS5ol0qvg"
      }
    },
    {
      "cell_type": "code",
      "source": [
        "X = torch.rand(size=(1, 1, 28,28), dtype=torch.float32)\n",
        "for layer in net:\n",
        "    X = layer(X)\n",
        "    print(layer.__class__.__name__, 'output shape: \\t', X.shape)\n",
        ""
      ],
      "metadata": {
        "colab": {
          "base_uri": "https://localhost:8080/"
        },
        "id": "wwlTGuNgxMKU",
        "outputId": "0d8d3bda-264d-4251-8dfc-04a511f9a952"
      },
      "execution_count": 7,
      "outputs": [
        {
          "output_type": "stream",
          "name": "stdout",
          "text": [
            "Reshape output shape: \t torch.Size([1, 1, 28, 28])\n",
            "Conv2d output shape: \t torch.Size([1, 6, 28, 28])\n",
            "Sigmoid output shape: \t torch.Size([1, 6, 28, 28])\n",
            "AvgPool2d output shape: \t torch.Size([1, 6, 14, 14])\n",
            "Conv2d output shape: \t torch.Size([1, 16, 10, 10])\n",
            "Sigmoid output shape: \t torch.Size([1, 16, 10, 10])\n",
            "AvgPool2d output shape: \t torch.Size([1, 16, 5, 5])\n",
            "Flatten output shape: \t torch.Size([1, 400])\n",
            "Linear output shape: \t torch.Size([1, 120])\n",
            "Sigmoid output shape: \t torch.Size([1, 120])\n",
            "Linear output shape: \t torch.Size([1, 84])\n",
            "Sigmoid output shape: \t torch.Size([1, 84])\n",
            "Linear output shape: \t torch.Size([1, 10])\n"
          ]
        }
      ]
    }
  ]
}