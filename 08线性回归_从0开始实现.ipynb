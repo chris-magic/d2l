{
  "nbformat": 4,
  "nbformat_minor": 0,
  "metadata": {
    "colab": {
      "provenance": [],
      "authorship_tag": "ABX9TyNaFCkZIlJaE4B0OUNX21nG",
      "include_colab_link": true
    },
    "kernelspec": {
      "name": "python3",
      "display_name": "Python 3"
    },
    "language_info": {
      "name": "python"
    }
  },
  "cells": [
    {
      "cell_type": "markdown",
      "metadata": {
        "id": "view-in-github",
        "colab_type": "text"
      },
      "source": [
        "<a href=\"https://colab.research.google.com/github/marlin2023/d2l/blob/main/08%E7%BA%BF%E6%80%A7%E5%9B%9E%E5%BD%92_%E4%BB%8E0%E5%BC%80%E5%A7%8B%E5%AE%9E%E7%8E%B0.ipynb\" target=\"_parent\"><img src=\"https://colab.research.google.com/assets/colab-badge.svg\" alt=\"Open In Colab\"/></a>"
      ]
    },
    {
      "cell_type": "markdown",
      "source": [
        "# 08线性回归-从0开始实现\n",
        "https://www.bilibili.com/video/BV1PX4y1g7KC?p=3&vd_source=53058ee25bac3920e7473970a2362146\n"
      ],
      "metadata": {
        "id": "eNJsHKcbcpqM"
      }
    },
    {
      "cell_type": "code",
      "execution_count": null,
      "metadata": {
        "id": "6ebgZpalckok"
      },
      "outputs": [],
      "source": []
    }
  ]
}